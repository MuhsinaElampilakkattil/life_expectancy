{
 "cells": [
  {
   "cell_type": "markdown",
   "metadata": {},
   "source": [
    "# Visualizing Inequalities in Life Expectancy\n",
    "This is a comparison of life expectancy accross countries and genders using ggplot2. This is done to find answers to some questions.\n",
    "\n",
    " - Do women live longer than men?\n",
    " - How long?\n",
    " - Does it happen everywhere?\n",
    " - Which are the countries with the lowest and highest life expectancy?\n",
    "\n",
    "[Link to Project](https://github.com/emuhsina/life_expectancy/blob/master/notebook.ipynb)\n",
    "[DataCamp](https://www.datacamp.com/projects/166)\n",
    "[Dataset](http://data.un.org/Data.aspx?d=GenderStat&f=inID:37&c=1,2,3,4,5,6&s=crEngName:asc,sgvEngName:asc,timeEngName:desc&v=1)\n"
   ]
  }
 ],
 "metadata": {
  "kernelspec": {
   "display_name": "R",
   "language": "R",
   "name": "ir"
  },
  "language_info": {
   "codemirror_mode": "r",
   "file_extension": ".r",
   "mimetype": "text/x-r-source",
   "name": "R",
   "pygments_lexer": "r",
   "version": "3.4.3"
  }
 },
 "nbformat": 4,
 "nbformat_minor": 2
}
